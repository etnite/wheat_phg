{
 "cells": [
  {
   "cell_type": "markdown",
   "metadata": {},
   "source": [
    "# Multinomial Logistic Regression Recursive Feature Elimination\n",
    "\n",
    "Brian Ward  \n",
    "brian@brianpward.net  \n",
    "https://github.com/etnite\n",
    "\n",
    "This notebook is one attempt to create a method to identify a minimal set of predictors (SNPs) which fully describe a non-ordinal categorical response (haplotypes) for a given region of the genome. My idea is to perform a (possibly multinomial) logistic regression, using recursive feature elimination (RFE) to select a good subset of SNPs\n",
    "\n",
    "There are many different methods for finding \"tag SNPs\" which can capture the variance explained by multiple surrounding SNPs. This problem is non-trivial and potentially NP-hard. See https://doi.org/10.1109/CSB.2005.22 for one example and some background on different methods. Note that much of this work was performed around the time of the first human HapMap project (ca. 2005), and hence there are many links to software on websites which no longer exist. These programs are also likely to be written in C or Perl, and getting them to run and use current data formats can be very difficult.\n",
    "\n",
    "Many tag SNP identification algorithms are designed to find sets of tag SNPs across chromosomes/genomes, without any phenotypic data. I think that my particular use-case here is actually somewhat simpler, since I:\n",
    "\n",
    "1. Have access to a \"phenotype\" (haplotype groups determined by a simple distance matrix using all SNPs/variants in the region of interest)\n",
    "2. Only need to focus on a single region, obviating the need to find haploblock boundaries\n",
    "\n",
    "This script performs repeated k-fold validation with the full set of SNPs in a region, with the selected subset of *n* SNPs identified by scikit-learn's RFE algorithm, and with the first *n* principal components of the full SNP matrix. We use the handy scikit-allel module to import data from a VCF file http://alimanfoo.github.io/2017/06/14/read-vcf.html"
   ]
  },
  {
   "cell_type": "code",
   "execution_count": 1,
   "metadata": {},
   "outputs": [],
   "source": [
    "from sklearn.feature_selection import RFE\n",
    "from sklearn.decomposition import PCA\n",
    "from sklearn.linear_model import LogisticRegression\n",
    "from sklearn.model_selection import cross_val_score, KFold\n",
    "from sklearn import preprocessing\n",
    "import allel\n",
    "import numpy as np\n",
    "import pandas as pd"
   ]
  },
  {
   "cell_type": "markdown",
   "metadata": {},
   "source": [
    "## User-Defined Constants\n",
    "\n",
    "Constants are as follows:\n",
    "\n",
    "* Path to VCF (genotypic data) file\n",
    "* Region of interest formatted chr:start_pos-end_pos\n",
    "* .csv file of haplotypes - must contain at least two cols. - one for sample, one for the haplotype groupings\n",
    "* response - string identifying the response variable in the haplotypes file\n",
    "* n_snps - Desired number of SNPs to retain\n",
    "* n_reps - Number of times to repeat k-fold validation\n",
    "* val_k - Number of folds per repetition of k-fold validation"
   ]
  },
  {
   "cell_type": "code",
   "execution_count": 2,
   "metadata": {},
   "outputs": [],
   "source": [
    "vcf_file = '/mnt/DATAPART2/brian/repos/manuscripts/manu_2020_Yr/input_data/geno/GAWN_KM_Yr_postimp_filt.vcf.gz'\n",
    "reg = '4B:526943215-598847646'\n",
    "haps_file = '/mnt/DATAPART2/brian/repos/manuscripts/manu_2020_Yr/temp/combined_graph_out_w_priors/haplotype_groupings.csv'\n",
    "response = \"4BL\"\n",
    "n_snps = 4\n",
    "n_reps = 5\n",
    "val_k = 5"
   ]
  },
  {
   "cell_type": "markdown",
   "metadata": {},
   "source": [
    "## Read input\n",
    "\n",
    "Here we read in the region of interest from the VCF file. We then convert the GT calls from the VCF into a genotype array (this is an intermediate step, and I'm currently not sure if it is required or not)."
   ]
  },
  {
   "cell_type": "code",
   "execution_count": 3,
   "metadata": {},
   "outputs": [
    {
     "name": "stdout",
     "output_type": "stream",
     "text": [
      "Number of Samples: 985\n",
      "Number of SNPs: 427\n"
     ]
    },
    {
     "data": {
      "text/html": [
       "<div class=\"allel allel-DisplayAs2D\"><span>&lt;GenotypeArray shape=(427, 985, 2) dtype=int8&gt;</span><table><thead><tr><th></th><th style=\"text-align: center\">0</th><th style=\"text-align: center\">1</th><th style=\"text-align: center\">2</th><th style=\"text-align: center\">3</th><th style=\"text-align: center\">4</th><th style=\"text-align: center\">...</th><th style=\"text-align: center\">980</th><th style=\"text-align: center\">981</th><th style=\"text-align: center\">982</th><th style=\"text-align: center\">983</th><th style=\"text-align: center\">984</th></tr></thead><tbody><tr><th style=\"text-align: center; background-color: white; border-right: 1px solid black; \">0</th><td style=\"text-align: center\">0/0</td><td style=\"text-align: center\">1/1</td><td style=\"text-align: center\">0/0</td><td style=\"text-align: center\">1/1</td><td style=\"text-align: center\">0/0</td><td style=\"text-align: center\">...</td><td style=\"text-align: center\">1/1</td><td style=\"text-align: center\">1/1</td><td style=\"text-align: center\">0/0</td><td style=\"text-align: center\">0/0</td><td style=\"text-align: center\">0/0</td></tr><tr><th style=\"text-align: center; background-color: white; border-right: 1px solid black; \">1</th><td style=\"text-align: center\">0/0</td><td style=\"text-align: center\">1/1</td><td style=\"text-align: center\">0/0</td><td style=\"text-align: center\">0/0</td><td style=\"text-align: center\">0/0</td><td style=\"text-align: center\">...</td><td style=\"text-align: center\">1/1</td><td style=\"text-align: center\">0/0</td><td style=\"text-align: center\">0/0</td><td style=\"text-align: center\">0/0</td><td style=\"text-align: center\">0/0</td></tr><tr><th style=\"text-align: center; background-color: white; border-right: 1px solid black; \">2</th><td style=\"text-align: center\">0/0</td><td style=\"text-align: center\">0/0</td><td style=\"text-align: center\">0/0</td><td style=\"text-align: center\">0/0</td><td style=\"text-align: center\">0/0</td><td style=\"text-align: center\">...</td><td style=\"text-align: center\">0/0</td><td style=\"text-align: center\">0/0</td><td style=\"text-align: center\">0/0</td><td style=\"text-align: center\">0/0</td><td style=\"text-align: center\">0/0</td></tr><tr><th style=\"text-align: center; background-color: white; border-right: 1px solid black; \">...</th><td style=\"text-align: center\" colspan=\"12\">...</td></tr><tr><th style=\"text-align: center; background-color: white; border-right: 1px solid black; \">424</th><td style=\"text-align: center\">1/1</td><td style=\"text-align: center\">0/0</td><td style=\"text-align: center\">1/1</td><td style=\"text-align: center\">0/0</td><td style=\"text-align: center\">1/1</td><td style=\"text-align: center\">...</td><td style=\"text-align: center\">0/0</td><td style=\"text-align: center\">0/0</td><td style=\"text-align: center\">1/1</td><td style=\"text-align: center\">1/1</td><td style=\"text-align: center\">1/1</td></tr><tr><th style=\"text-align: center; background-color: white; border-right: 1px solid black; \">425</th><td style=\"text-align: center\">1/1</td><td style=\"text-align: center\">0/0</td><td style=\"text-align: center\">1/1</td><td style=\"text-align: center\">0/0</td><td style=\"text-align: center\">1/1</td><td style=\"text-align: center\">...</td><td style=\"text-align: center\">0/0</td><td style=\"text-align: center\">0/0</td><td style=\"text-align: center\">1/1</td><td style=\"text-align: center\">1/1</td><td style=\"text-align: center\">1/1</td></tr><tr><th style=\"text-align: center; background-color: white; border-right: 1px solid black; \">426</th><td style=\"text-align: center\">1/1</td><td style=\"text-align: center\">0/0</td><td style=\"text-align: center\">1/1</td><td style=\"text-align: center\">0/0</td><td style=\"text-align: center\">1/1</td><td style=\"text-align: center\">...</td><td style=\"text-align: center\">0/0</td><td style=\"text-align: center\">0/0</td><td style=\"text-align: center\">1/1</td><td style=\"text-align: center\">1/1</td><td style=\"text-align: center\">1/1</td></tr></tbody></table></div>"
      ],
      "text/plain": [
       "<GenotypeArray shape=(427, 985, 2) dtype=int8>\n",
       "0/0 1/1 0/0 1/1 0/0 ... 1/1 1/1 0/0 0/0 0/0\n",
       "0/0 1/1 0/0 0/0 0/0 ... 1/1 0/0 0/0 0/0 0/0\n",
       "0/0 0/0 0/0 0/0 0/0 ... 0/0 0/0 0/0 0/0 0/0\n",
       "...\n",
       "1/1 0/0 1/1 0/0 1/1 ... 0/0 0/0 1/1 1/1 1/1\n",
       "1/1 0/0 1/1 0/0 1/1 ... 0/0 0/0 1/1 1/1 1/1\n",
       "1/1 0/0 1/1 0/0 1/1 ... 0/0 0/0 1/1 1/1 1/1"
      ]
     },
     "execution_count": 3,
     "metadata": {},
     "output_type": "execute_result"
    }
   ],
   "source": [
    "vcf = allel.read_vcf(vcf_file, region = reg)\n",
    "preds = vcf['variants/ID']\n",
    "gt = allel.GenotypeArray(vcf['calldata/GT'])\n",
    "print(\"Number of Samples:\", len(vcf['samples']))\n",
    "print(\"Number of SNPs:\", len(preds))\n",
    "gt"
   ]
  },
  {
   "cell_type": "markdown",
   "metadata": {},
   "source": [
    "Now we convert the genotype array into minor allele dosage format, then convert to a dataframe, set SNP IDs as col. names, and add a column for the sample name."
   ]
  },
  {
   "cell_type": "code",
   "execution_count": 4,
   "metadata": {},
   "outputs": [],
   "source": [
    "dos = gt.to_n_alt()\n",
    "dos = dos.transpose()\n",
    "\n",
    "dos_df = pd.DataFrame(dos)\n",
    "dos_df.columns = vcf[\"variants/ID\"]\n",
    "dos_df[\"sample\"] = vcf[\"samples\"]"
   ]
  },
  {
   "cell_type": "markdown",
   "metadata": {},
   "source": [
    "Now import the haplotypes file, merge it with the dos_df dataframe, and set the response vector (y) and predictors matrix (X). We then standardize each predictor to form the X_std matrix."
   ]
  },
  {
   "cell_type": "code",
   "execution_count": 5,
   "metadata": {},
   "outputs": [
    {
     "data": {
      "text/plain": [
       "array([[-1.14019606, -0.71251567, -0.33202381, ...,  1.00469512,\n",
       "         1.01349415,  1.36287906],\n",
       "       [ 0.92052526, -0.71251567, -0.33202381, ..., -1.01701007,\n",
       "        -1.01555409, -0.74952987],\n",
       "       [ 0.92052526, -0.71251567, -0.33202381, ..., -1.01701007,\n",
       "        -1.01555409, -0.74952987],\n",
       "       ...,\n",
       "       [-1.14019606, -0.71251567, -0.33202381, ...,  1.00469512,\n",
       "         1.01349415,  1.36287906],\n",
       "       [ 0.92052526, -0.71251567, -0.33202381, ...,  1.00469512,\n",
       "         1.01349415, -0.74952987],\n",
       "       [ 0.92052526,  1.45361993, -0.33202381, ..., -1.01701007,\n",
       "        -1.01555409, -0.74952987]])"
      ]
     },
     "execution_count": 5,
     "metadata": {},
     "output_type": "execute_result"
    }
   ],
   "source": [
    "haps = pd.read_csv(haps_file)\n",
    "haps = haps[[\"sample\", response]]\n",
    "\n",
    "merged = pd.merge(haps, dos_df, how = \"inner\", on = \"sample\")\n",
    "y = merged[\"4BL\"]\n",
    "X = merged[vcf[\"variants/ID\"]]\n",
    "\n",
    "\n",
    "sc = preprocessing.StandardScaler()\n",
    "X_std = sc.fit_transform(X)\n",
    "X_std"
   ]
  },
  {
   "cell_type": "markdown",
   "metadata": {},
   "source": [
    "## Logistic Regression Feature Elimination\n",
    "\n",
    "Here we create a multinomial logistic regressor. Then we utilize recursive feature elimination (RFE) to try and remove non-informative/repetitive features (i.e. SNPs) until we get down to the number of SNPs chosen by the user."
   ]
  },
  {
   "cell_type": "code",
   "execution_count": 6,
   "metadata": {},
   "outputs": [],
   "source": [
    "mlogit = LogisticRegression(solver = 'lbfgs', penalty = 'none', multi_class = 'auto', max_iter = 5e3)\n",
    "rfe = RFE(mlogit, n_snps)\n",
    "fit = rfe.fit(X_std, y)"
   ]
  },
  {
   "cell_type": "code",
   "execution_count": 7,
   "metadata": {},
   "outputs": [
    {
     "name": "stdout",
     "output_type": "stream",
     "text": [
      "Retained features: ['S4B_546015349' 'S4B_546664811' 'S4B_592005439' 'S4B_596498722']\n",
      "Retained features array first 5 rows:\n"
     ]
    },
    {
     "data": {
      "text/plain": [
       "array([[-0.97658556, -0.979656  , -0.82095677, -0.84629444],\n",
       "       [ 1.05067846,  1.05398185, -0.82095677, -0.84629444],\n",
       "       [ 1.05067846,  1.05398185, -0.82095677, -0.84629444],\n",
       "       [ 1.05067846,  1.05398185,  1.24718241,  1.20690759],\n",
       "       [-0.97658556, -0.979656  ,  1.24718241,  1.20690759]])"
      ]
     },
     "execution_count": 7,
     "metadata": {},
     "output_type": "execute_result"
    }
   ],
   "source": [
    "sub_preds = preds[fit.support_]\n",
    "print(\"Retained features:\", sub_preds)\n",
    "X_sub = X_std[:, fit.support_]\n",
    "\n",
    "print(\"Retained features array first 5 rows:\")\n",
    "X_sub[:5]"
   ]
  },
  {
   "cell_type": "markdown",
   "metadata": {},
   "source": [
    "### Principal Component Analysis\n",
    "\n",
    "We can also perform logistic regression using the same number of principal components as the number of SNPs we decided to use. This should give us a theoretical maximum predicted vs. observed haplotypes accuracy for a given number n of predictors."
   ]
  },
  {
   "cell_type": "code",
   "execution_count": 8,
   "metadata": {},
   "outputs": [
    {
     "data": {
      "text/plain": [
       "'\\nAnother variation - find the SNPs most highly correlated with each PC\\nloadings = np.abs(pca.components_)\\ntop_corrs = np.argmax(loadings, axis = 1)\\nX_pcs = X_std[:, top_corrs]\\n'"
      ]
     },
     "execution_count": 8,
     "metadata": {},
     "output_type": "execute_result"
    }
   ],
   "source": [
    "pca = PCA(n_components = n_snps)\n",
    "pca.fit(np.transpose(X_std))\n",
    "X_pcs = pca.components_.T\n",
    "\n",
    "'''\n",
    "Another variation - find the SNPs most highly correlated with each PC\n",
    "loadings = np.abs(pca.components_)\n",
    "top_corrs = np.argmax(loadings, axis = 1)\n",
    "X_pcs = X_std[:, top_corrs]\n",
    "'''"
   ]
  },
  {
   "cell_type": "markdown",
   "metadata": {},
   "source": [
    "## K-Fold Cross-validation\n",
    "\n",
    "Now we perform n repeats of k-fold cross-validation, and find the mean accuracy of the prediction (proportion of times the predicted response category matches the observed category). We do this for the full set of SNPs, the chosen subset of *n* SNPs, and the first *n* principal components."
   ]
  },
  {
   "cell_type": "code",
   "execution_count": 9,
   "metadata": {},
   "outputs": [],
   "source": [
    "full_score_arr = np.zeros((n_reps, val_k), dtype = np.float)\n",
    "for i in range(0, n_reps):\n",
    "    k_fold = KFold(n_splits = val_k, random_state = i, shuffle = True)\n",
    "    full_score_arr[i,:] = cross_val_score(mlogit, X_std, y, cv = k_fold, scoring = 'accuracy')\n",
    "\n",
    "sub_score_arr = np.zeros((n_reps, val_k), dtype = np.float)\n",
    "for i in range(0, n_reps):\n",
    "    k_fold = KFold(n_splits = val_k, random_state = i, shuffle = True)\n",
    "    sub_score_arr[i,:] = cross_val_score(mlogit, X_sub, y, cv = k_fold, scoring = 'accuracy')\n",
    "\n",
    "pc_score_arr = np.zeros((n_reps, val_k), dtype = np.float)\n",
    "for i in range(0, n_reps):\n",
    "    k_fold = KFold(n_splits = val_k, random_state = i, shuffle = True)\n",
    "    pc_score_arr[i,:] = cross_val_score(mlogit, X_pcs, y, cv = k_fold, scoring = 'accuracy')"
   ]
  },
  {
   "cell_type": "code",
   "execution_count": 10,
   "metadata": {},
   "outputs": [
    {
     "name": "stdout",
     "output_type": "stream",
     "text": [
      "Prediction accuracy, all SNPs:\n",
      "0.98\n",
      "\n",
      "Prediction accuracy, selected SNPs:\n",
      "0.85\n",
      "\n",
      "Prediction accuracy, PCs:\n",
      "0.99\n"
     ]
    }
   ],
   "source": [
    "print(\"Prediction accuracy, all SNPs:\")\n",
    "print(round(np.mean(full_score_arr), 2))\n",
    "\n",
    "print(\"\\nPrediction accuracy, selected SNPs:\")\n",
    "print(round(np.mean(sub_score_arr), 2))\n",
    "\n",
    "print(\"\\nPrediction accuracy, PCs:\")\n",
    "print(round(np.mean(pc_score_arr), 2))"
   ]
  },
  {
   "cell_type": "markdown",
   "metadata": {},
   "source": [
    "## Conclusion\n",
    "\n",
    "In this case, it appears that there is no small subset of SNPs that have very a high predictive accuracy when compared against the ~100% prediction accuracy using all 427 SNPs used to identify the haplotypes in the first place. Notably, using just the first handful of principal components of the genotypic matrix, we can almost perfectly predict the haplotypes. However, an alternative strategy, which was to use the SNPs most highly correlated with each PC, yielded similar results the RFE method (mean accuracy of ~ 0.85, method not shown here)"
   ]
  }
 ],
 "metadata": {
  "kernelspec": {
   "display_name": "Python 3",
   "language": "python",
   "name": "python3"
  },
  "language_info": {
   "codemirror_mode": {
    "name": "ipython",
    "version": 3
   },
   "file_extension": ".py",
   "mimetype": "text/x-python",
   "name": "python",
   "nbconvert_exporter": "python",
   "pygments_lexer": "ipython3",
   "version": "3.7.4"
  }
 },
 "nbformat": 4,
 "nbformat_minor": 4
}